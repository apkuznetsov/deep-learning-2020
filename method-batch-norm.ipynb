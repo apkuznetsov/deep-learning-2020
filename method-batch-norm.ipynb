{
 "cells": [
  {
   "cell_type": "code",
   "execution_count": 1,
   "outputs": [],
   "source": [
    "import torch\n",
    "import torch.nn as nn\n",
    "import numpy as np"
   ],
   "metadata": {
    "collapsed": false,
    "pycharm": {
     "name": "#%%\n"
    }
   }
  },
  {
   "cell_type": "markdown",
   "source": [
    "# Функция batch norm"
   ],
   "metadata": {
    "collapsed": false
   }
  },
  {
   "cell_type": "code",
   "execution_count": 2,
   "outputs": [],
   "source": [
    "class CustomBatchNorm1d:\n",
    "    def __init__(self, weight, bias, eps, momentum):\n",
    "        self.weight = weight\n",
    "        self.bias = bias\n",
    "        self.eps = eps\n",
    "        self.momentum = momentum\n",
    "\n",
    "        self.eval_flag = True\n",
    "        self.running_mean = torch.zeros(weight.shape[0])\n",
    "        self.running_var = torch.ones(weight.shape[0])\n",
    "\n",
    "    def __call__(self, input_tensor):\n",
    "        n = input_tensor.shape[0] # batch size\n",
    "        mean = torch.mean(input_tensor, dim=0)\n",
    "        var = torch.var(input_tensor, dim=0, unbiased=False)\n",
    "\n",
    "        if self.eval_flag:\n",
    "            self.running_mean = self.momentum * self.running_mean + (1 - self.momentum) * mean\n",
    "            self.running_var = self.momentum * self.running_var + (1 - self.momentum) * var * n / (n - 1)\n",
    "            normed_tensor = (input_tensor - mean)/(var + self.eps)**0.5 * self.weight + self.bias\n",
    "        else:\n",
    "            normed_tensor = (input_tensor - self.running_mean)/(self.running_var + self.eps)**0.5 * self.weight + self.bias\n",
    "\n",
    "        return normed_tensor\n",
    "\n",
    "    def eval(self):\n",
    "        self.eval_flag = self.eval_flag == False"
   ],
   "metadata": {
    "collapsed": false,
    "pycharm": {
     "name": "#%%\n"
    }
   }
  },
  {
   "cell_type": "code",
   "execution_count": 3,
   "outputs": [],
   "source": [
    "# torch.manual_seed(0)\n",
    "\n",
    "input_size = 3\n",
    "batch_size = 5\n",
    "eps = 1e-1\n",
    "\n",
    "batch_norm = nn.BatchNorm1d(input_size, eps=eps)\n",
    "batch_norm.bias.data = torch.randn(input_size, dtype=torch.float)\n",
    "batch_norm.weight.data = torch.randn(input_size, dtype=torch.float)\n",
    "batch_norm.momentum = 0.5\n",
    "\n",
    "custom_batch_norm1d = CustomBatchNorm1d(batch_norm.weight.data, batch_norm.bias.data, eps, batch_norm.momentum)"
   ],
   "metadata": {
    "collapsed": false,
    "pycharm": {
     "name": "#%%\n"
    }
   }
  },
  {
   "cell_type": "code",
   "execution_count": 4,
   "outputs": [
    {
     "name": "stdout",
     "output_type": "stream",
     "text": [
      "OrderedDict([('running_mean', tensor([-0.1593,  0.1291, -0.1376])), ('running_var', tensor([0.8012, 1.1854, 0.6336])), ('num_batches_tracked', tensor(8))])\n",
      "True\n"
     ]
    }
   ],
   "source": [
    "all_correct = True\n",
    "\n",
    "for i in range(8):\n",
    "    torch_input = torch.randn(batch_size, input_size, dtype=torch.float)\n",
    "    norm_output = batch_norm(torch_input)\n",
    "    custom_output = custom_batch_norm1d(torch_input)\n",
    "    all_correct &= torch.allclose(norm_output, custom_output) \\\n",
    "                   and norm_output.shape == custom_output.shape\n",
    "\n",
    "batch_norm.eval()\n",
    "print(batch_norm._buffers)\n",
    "custom_batch_norm1d.eval()\n",
    "\n",
    "\n",
    "for i in range(8):\n",
    "    torch_input = torch.randn(batch_size, input_size, dtype=torch.float)\n",
    "    norm_output = batch_norm(torch_input)\n",
    "    custom_output = custom_batch_norm1d(torch_input)\n",
    "    all_correct &= torch.allclose(norm_output, custom_output) \\\n",
    "                   and norm_output.shape == custom_output.shape\n",
    "\n",
    "print(all_correct)"
   ],
   "metadata": {
    "collapsed": false,
    "pycharm": {
     "name": "#%%\n"
    }
   }
  }
 ],
 "metadata": {
  "kernelspec": {
   "display_name": "Python 3",
   "language": "python",
   "name": "python3"
  },
  "language_info": {
   "codemirror_mode": {
    "name": "ipython",
    "version": 2
   },
   "file_extension": ".py",
   "mimetype": "text/x-python",
   "name": "python",
   "nbconvert_exporter": "python",
   "pygments_lexer": "ipython2",
   "version": "2.7.6"
  }
 },
 "nbformat": 4,
 "nbformat_minor": 0
}