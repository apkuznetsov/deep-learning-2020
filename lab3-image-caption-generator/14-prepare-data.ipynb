{
 "cells": [
  {
   "cell_type": "code",
   "execution_count": 2,
   "outputs": [],
   "source": [
    "import os\n",
    "import shutil\n",
    "import pickle\n",
    "import string\n",
    "import pandas as pd"
   ],
   "metadata": {
    "collapsed": false,
    "pycharm": {
     "name": "#%%\n"
    }
   }
  },
  {
   "cell_type": "code",
   "execution_count": 3,
   "outputs": [],
   "source": [
    "curr_folder = \"D:/YandexDisk/datasets/\"\n",
    "\n",
    "start_dir = \"D:/datasets/flickr-images-30k\"\n",
    "end_dir = \"D:/datasets/flickr-images-12k\"\n",
    "\n",
    "path_captions = curr_folder + \"captions-ru-12k.csv\"\n",
    "path_captions_no_puncts = curr_folder + \"captions-ru-12k-no-puncts.csv\"\n",
    "\n",
    "path_train = curr_folder + \"captions-ru-12k-train.csv\"\n",
    "path_val = curr_folder + \"captions-ru-12k-val.csv\"\n",
    "path_test = curr_folder + \"captions-ru-12k-test.csv\"\n",
    "\n",
    "path_features = curr_folder + \"ru-12k-features.pkl\"\n",
    "path_vocab = curr_folder + \"ru-12k-vocab.pkl\"\n",
    "path_sentences = curr_folder + \"ru-12k-sentences-train.pkl\"\n",
    "\n",
    "path_train_dict = curr_folder + \"captions-ru-12k-train.pkl\"\n",
    "path_val_dict = curr_folder + \"captions-ru-12k-val.pkl\""
   ],
   "metadata": {
    "collapsed": false,
    "pycharm": {
     "name": "#%%\n"
    }
   }
  },
  {
   "cell_type": "markdown",
   "source": [
    "# Удалить длинные предложения"
   ],
   "metadata": {
    "collapsed": false,
    "pycharm": {
     "name": "#%% md\n"
    }
   }
  },
  {
   "cell_type": "code",
   "execution_count": 18,
   "outputs": [],
   "source": [
    "df = pd.read_csv(path_captions, sep='|')"
   ],
   "metadata": {
    "collapsed": false,
    "pycharm": {
     "name": "#%%\n"
    }
   }
  },
  {
   "cell_type": "code",
   "execution_count": 21,
   "outputs": [],
   "source": [
    "idxs_to_del = []\n",
    "\n",
    "for idx in df.index:\n",
    "    curr_len = len(df.iat[idx, 2])\n",
    "    if curr_len > 100:\n",
    "        idxs_to_del.append(idx)\n",
    "\n",
    "df_to_delete = df.loc[idxs_to_del, :]\n",
    "images_to_delete = df_to_delete[\"image_name\"].unique()"
   ],
   "metadata": {
    "collapsed": false,
    "pycharm": {
     "name": "#%%\n"
    }
   }
  },
  {
   "cell_type": "code",
   "execution_count": 26,
   "outputs": [
    {
     "name": "stdout",
     "output_type": "stream",
     "text": [
      "(77875, 3)\n",
      "(59020, 3)\n"
     ]
    }
   ],
   "source": [
    "print(df.shape)\n",
    "df = df[~df.image_name.isin(images_to_delete)]\n",
    "print(df.shape)"
   ],
   "metadata": {
    "collapsed": false,
    "pycharm": {
     "name": "#%%\n"
    }
   }
  },
  {
   "cell_type": "markdown",
   "source": [
    "# Подготовка данных к обучению\n",
    "\n",
    "– Каждое слово с маленькой буквы\n",
    "– Удалить знаки препинания\n",
    "– Только буквы"
   ],
   "metadata": {
    "collapsed": false,
    "pycharm": {
     "name": "#%% md\n"
    }
   }
  },
  {
   "cell_type": "code",
   "execution_count": 7,
   "outputs": [],
   "source": [
    "def clean_captions(data):\n",
    "    table = str.maketrans('', '', string.punctuation)\n",
    "\n",
    "    for idx in data.index:\n",
    "        curr_capt = data.iat[idx, 2]\n",
    "        curr_capt = curr_capt.split()\n",
    "        curr_capt = [word.lower() for word in curr_capt]\n",
    "        curr_capt = [word.translate(table) for word in curr_capt]\n",
    "        curr_capt = [word for word in curr_capt if word.isalpha()]\n",
    "\n",
    "        data.iat[idx, 2] = ' '.join(curr_capt)"
   ],
   "metadata": {
    "collapsed": false,
    "pycharm": {
     "name": "#%%\n"
    }
   }
  },
  {
   "cell_type": "code",
   "execution_count": 7,
   "outputs": [
    {
     "data": {
      "text/plain": "       image_name  comment_number  \\\n0  1000092795.jpg               0   \n1  1000092795.jpg               1   \n2  1000092795.jpg               2   \n3  1000092795.jpg               3   \n4  1000092795.jpg               4   \n\n                                             comment  \n0  два молодых парня с лохматыми волосами смотрят...  \n1  два молодых белых самца находятся снаружи возл...  \n2      двое мужчин в зеленых рубашках стоят во дворе  \n3             мужчина в синей рубашке стоящий в саду  \n4  два друга наслаждаются временем проведенным вм...  ",
      "text/html": "<div>\n<style scoped>\n    .dataframe tbody tr th:only-of-type {\n        vertical-align: middle;\n    }\n\n    .dataframe tbody tr th {\n        vertical-align: top;\n    }\n\n    .dataframe thead th {\n        text-align: right;\n    }\n</style>\n<table border=\"1\" class=\"dataframe\">\n  <thead>\n    <tr style=\"text-align: right;\">\n      <th></th>\n      <th>image_name</th>\n      <th>comment_number</th>\n      <th>comment</th>\n    </tr>\n  </thead>\n  <tbody>\n    <tr>\n      <th>0</th>\n      <td>1000092795.jpg</td>\n      <td>0</td>\n      <td>два молодых парня с лохматыми волосами смотрят...</td>\n    </tr>\n    <tr>\n      <th>1</th>\n      <td>1000092795.jpg</td>\n      <td>1</td>\n      <td>два молодых белых самца находятся снаружи возл...</td>\n    </tr>\n    <tr>\n      <th>2</th>\n      <td>1000092795.jpg</td>\n      <td>2</td>\n      <td>двое мужчин в зеленых рубашках стоят во дворе</td>\n    </tr>\n    <tr>\n      <th>3</th>\n      <td>1000092795.jpg</td>\n      <td>3</td>\n      <td>мужчина в синей рубашке стоящий в саду</td>\n    </tr>\n    <tr>\n      <th>4</th>\n      <td>1000092795.jpg</td>\n      <td>4</td>\n      <td>два друга наслаждаются временем проведенным вм...</td>\n    </tr>\n  </tbody>\n</table>\n</div>"
     },
     "execution_count": 7,
     "metadata": {},
     "output_type": "execute_result"
    }
   ],
   "source": [
    "df = pd.read_csv(path_captions, delimiter='|')\n",
    "df.head(5)"
   ],
   "metadata": {
    "collapsed": false,
    "pycharm": {
     "name": "#%%\n"
    }
   }
  },
  {
   "cell_type": "code",
   "execution_count": 36,
   "outputs": [
    {
     "data": {
      "text/plain": "       image_name  comment_number  \\\n0  1000092795.jpg               0   \n1  1000092795.jpg               1   \n2  1000092795.jpg               2   \n3  1000092795.jpg               3   \n4  1000092795.jpg               4   \n\n                                             comment  \n0  два молодых парня с лохматыми волосами смотрят...  \n1  два молодых белых самца находятся снаружи возл...  \n2      двое мужчин в зеленых рубашках стоят во дворе  \n3             мужчина в синей рубашке стоящий в саду  \n4  два друга наслаждаются временем проведенным вм...  ",
      "text/html": "<div>\n<style scoped>\n    .dataframe tbody tr th:only-of-type {\n        vertical-align: middle;\n    }\n\n    .dataframe tbody tr th {\n        vertical-align: top;\n    }\n\n    .dataframe thead th {\n        text-align: right;\n    }\n</style>\n<table border=\"1\" class=\"dataframe\">\n  <thead>\n    <tr style=\"text-align: right;\">\n      <th></th>\n      <th>image_name</th>\n      <th>comment_number</th>\n      <th>comment</th>\n    </tr>\n  </thead>\n  <tbody>\n    <tr>\n      <th>0</th>\n      <td>1000092795.jpg</td>\n      <td>0</td>\n      <td>два молодых парня с лохматыми волосами смотрят...</td>\n    </tr>\n    <tr>\n      <th>1</th>\n      <td>1000092795.jpg</td>\n      <td>1</td>\n      <td>два молодых белых самца находятся снаружи возл...</td>\n    </tr>\n    <tr>\n      <th>2</th>\n      <td>1000092795.jpg</td>\n      <td>2</td>\n      <td>двое мужчин в зеленых рубашках стоят во дворе</td>\n    </tr>\n    <tr>\n      <th>3</th>\n      <td>1000092795.jpg</td>\n      <td>3</td>\n      <td>мужчина в синей рубашке стоящий в саду</td>\n    </tr>\n    <tr>\n      <th>4</th>\n      <td>1000092795.jpg</td>\n      <td>4</td>\n      <td>два друга наслаждаются временем проведенным вм...</td>\n    </tr>\n  </tbody>\n</table>\n</div>"
     },
     "execution_count": 36,
     "metadata": {},
     "output_type": "execute_result"
    }
   ],
   "source": [
    "clean_captions(df)\n",
    "df.head()"
   ],
   "metadata": {
    "collapsed": false,
    "pycharm": {
     "name": "#%%\n"
    }
   }
  },
  {
   "cell_type": "markdown",
   "source": [
    "# Словарь"
   ],
   "metadata": {
    "collapsed": false,
    "pycharm": {
     "name": "#%% md\n"
    }
   }
  },
  {
   "cell_type": "code",
   "execution_count": 39,
   "outputs": [],
   "source": [
    "def to_vocab(data):\n",
    "    vocab = set()\n",
    "\n",
    "    for idx in data.index:\n",
    "        vocab.update(data.iat[idx, 2].split())\n",
    "\n",
    "    return vocab"
   ],
   "metadata": {
    "collapsed": false,
    "pycharm": {
     "name": "#%%\n"
    }
   }
  },
  {
   "cell_type": "code",
   "execution_count": 43,
   "outputs": [
    {
     "name": "stdout",
     "output_type": "stream",
     "text": [
      "размер словаря ... 25271\n"
     ]
    }
   ],
   "source": [
    "df = pd.read_csv(path_captions_no_puncts, sep='|')\n",
    "vocab = to_vocab(df)\n",
    "print('размер словаря ... %d' % len(vocab))"
   ],
   "metadata": {
    "collapsed": false,
    "pycharm": {
     "name": "#%%\n"
    }
   }
  },
  {
   "cell_type": "code",
   "execution_count": 46,
   "outputs": [],
   "source": [
    "with open(path_vocab,'wb') as f:\n",
    "    pickle.dump(vocab, f)"
   ],
   "metadata": {
    "collapsed": false,
    "pycharm": {
     "name": "#%%\n"
    }
   }
  },
  {
   "cell_type": "code",
   "execution_count": 47,
   "outputs": [],
   "source": [
    "with open(path_vocab,'rb') as f:\n",
    "    loaded_vocab = pickle.load(f)"
   ],
   "metadata": {
    "collapsed": false,
    "pycharm": {
     "name": "#%%\n"
    }
   }
  },
  {
   "cell_type": "markdown",
   "source": [
    "# Разбить набор на три части"
   ],
   "metadata": {
    "collapsed": false,
    "pycharm": {
     "name": "#%% md\n"
    }
   }
  },
  {
   "cell_type": "code",
   "execution_count": 67,
   "outputs": [
    {
     "data": {
      "text/plain": "       image_name  comment_number  \\\n0  1000092795.jpg               0   \n1  1000092795.jpg               1   \n2  1000092795.jpg               2   \n3  1000092795.jpg               3   \n4  1000092795.jpg               4   \n\n                                             comment  \n0  два молодых парня с лохматыми волосами смотрят...  \n1  два молодых белых самца находятся снаружи возл...  \n2      двое мужчин в зеленых рубашках стоят во дворе  \n3             мужчина в синей рубашке стоящий в саду  \n4  два друга наслаждаются временем проведенным вм...  ",
      "text/html": "<div>\n<style scoped>\n    .dataframe tbody tr th:only-of-type {\n        vertical-align: middle;\n    }\n\n    .dataframe tbody tr th {\n        vertical-align: top;\n    }\n\n    .dataframe thead th {\n        text-align: right;\n    }\n</style>\n<table border=\"1\" class=\"dataframe\">\n  <thead>\n    <tr style=\"text-align: right;\">\n      <th></th>\n      <th>image_name</th>\n      <th>comment_number</th>\n      <th>comment</th>\n    </tr>\n  </thead>\n  <tbody>\n    <tr>\n      <th>0</th>\n      <td>1000092795.jpg</td>\n      <td>0</td>\n      <td>два молодых парня с лохматыми волосами смотрят...</td>\n    </tr>\n    <tr>\n      <th>1</th>\n      <td>1000092795.jpg</td>\n      <td>1</td>\n      <td>два молодых белых самца находятся снаружи возл...</td>\n    </tr>\n    <tr>\n      <th>2</th>\n      <td>1000092795.jpg</td>\n      <td>2</td>\n      <td>двое мужчин в зеленых рубашках стоят во дворе</td>\n    </tr>\n    <tr>\n      <th>3</th>\n      <td>1000092795.jpg</td>\n      <td>3</td>\n      <td>мужчина в синей рубашке стоящий в саду</td>\n    </tr>\n    <tr>\n      <th>4</th>\n      <td>1000092795.jpg</td>\n      <td>4</td>\n      <td>два друга наслаждаются временем проведенным вм...</td>\n    </tr>\n  </tbody>\n</table>\n</div>"
     },
     "execution_count": 67,
     "metadata": {},
     "output_type": "execute_result"
    }
   ],
   "source": [
    "df = pd.read_csv(path_captions_no_puncts, delimiter='|')\n",
    "df.head(5)"
   ],
   "metadata": {
    "collapsed": false,
    "pycharm": {
     "name": "#%%\n"
    }
   }
  },
  {
   "cell_type": "code",
   "execution_count": 68,
   "outputs": [],
   "source": [
    "n = len(df)\n",
    "\n",
    "train_df = df[0:int(n*0.7)]\n",
    "val_df = df[int(n*0.7):int(n*0.9)]\n",
    "test_df = df[int(n*0.9):]\n",
    "\n",
    "train_df.to_csv(path_train, sep='|', encoding='utf-8', index=False)\n",
    "val_df.to_csv(path_val, sep='|', encoding='utf-8', index=False)\n",
    "test_df.to_csv(path_test, sep='|', encoding='utf-8', index=False)"
   ],
   "metadata": {
    "collapsed": false,
    "pycharm": {
     "name": "#%%\n"
    }
   }
  },
  {
   "cell_type": "markdown",
   "source": [
    "# Добавить начальные и конечные строки startseq и endseq"
   ],
   "metadata": {
    "collapsed": false
   }
  },
  {
   "cell_type": "code",
   "execution_count": 69,
   "outputs": [],
   "source": [
    "def add_start_end_tags(data):\n",
    "    for idx in data.index:\n",
    "        curr_str = data.iat[idx, 2]\n",
    "        data.iat[idx, 2] = 'startseq ' + curr_str + ' endseq'"
   ],
   "metadata": {
    "collapsed": false,
    "pycharm": {
     "name": "#%%\n"
    }
   }
  },
  {
   "cell_type": "code",
   "execution_count": 71,
   "outputs": [],
   "source": [
    "train_df = pd.read_csv(path_train, sep='|')\n",
    "val_df = pd.read_csv(path_val, sep='|')\n",
    "test_df = pd.read_csv(path_test, sep='|')\n",
    "\n",
    "add_start_end_tags(train_df)\n",
    "add_start_end_tags(val_df)\n",
    "add_start_end_tags(test_df)\n",
    "\n",
    "train_df.to_csv(path_train, sep='|', encoding='utf-8', index=False)\n",
    "val_df.to_csv(path_val, sep='|', encoding='utf-8', index=False)\n",
    "test_df.to_csv(path_test, sep='|', encoding='utf-8', index=False)"
   ],
   "metadata": {
    "collapsed": false,
    "pycharm": {
     "name": "#%%\n"
    }
   }
  },
  {
   "cell_type": "code",
   "execution_count": 72,
   "outputs": [
    {
     "data": {
      "text/plain": "'startseq группа мужчин идущих по льду с тем что выглядит как антарктида или один из полюсов endseq'"
     },
     "execution_count": 72,
     "metadata": {},
     "output_type": "execute_result"
    }
   ],
   "source": [
    "test_df.iat[0, 2]"
   ],
   "metadata": {
    "collapsed": false,
    "pycharm": {
     "name": "#%%\n"
    }
   }
  },
  {
   "cell_type": "markdown",
   "source": [
    "# Конвертация pandas.dataframe в dict"
   ],
   "metadata": {
    "collapsed": false,
    "pycharm": {
     "name": "#%% md\n"
    }
   }
  },
  {
   "cell_type": "code",
   "execution_count": 4,
   "outputs": [],
   "source": [
    "def to_dict(data):\n",
    "    out_dict = dict()\n",
    "\n",
    "    start_index = 0\n",
    "    end_index = len(data) - 1 - 5\n",
    "\n",
    "    for idx in range(start_index, end_index+1, 5):\n",
    "        image_name = data.iat[idx, 0][:-4]\n",
    "        curr_list = list()\n",
    "\n",
    "        curr_list.append(data.iat[idx, 2])\n",
    "        curr_list.append(data.iat[idx+1, 2])\n",
    "        curr_list.append(data.iat[idx+2, 2])\n",
    "        curr_list.append(data.iat[idx+3, 2])\n",
    "        curr_list.append(data.iat[idx+4, 2])\n",
    "\n",
    "        out_dict[image_name] = curr_list\n",
    "\n",
    "    return out_dict"
   ],
   "metadata": {
    "collapsed": false,
    "pycharm": {
     "name": "#%%\n"
    }
   }
  },
  {
   "cell_type": "code",
   "execution_count": 3,
   "outputs": [],
   "source": [
    "df_to_convert = pd.read_csv(path_val, sep='|')\n",
    "df_to_convert.head()"
   ],
   "metadata": {
    "collapsed": false,
    "pycharm": {
     "name": "#%%\n"
    }
   }
  },
  {
   "cell_type": "code",
   "execution_count": 8,
   "outputs": [],
   "source": [
    "new_dict = to_dict(df_to_convert)"
   ],
   "metadata": {
    "collapsed": false,
    "pycharm": {
     "name": "#%%\n"
    }
   }
  },
  {
   "cell_type": "code",
   "execution_count": 9,
   "outputs": [],
   "source": [
    "with open(path_val_dict,'wb') as f:\n",
    "    pickle.dump(new_dict, f)"
   ],
   "metadata": {
    "collapsed": false,
    "pycharm": {
     "name": "#%%\n"
    }
   }
  },
  {
   "cell_type": "code",
   "execution_count": 13,
   "outputs": [],
   "source": [
    "with open (path_val_dict, 'rb') as f:\n",
    "    test_dict = pickle.load(f)"
   ],
   "metadata": {
    "collapsed": false,
    "pycharm": {
     "name": "#%%\n"
    }
   }
  },
  {
   "cell_type": "markdown",
   "source": [
    "# Предложения для обучения"
   ],
   "metadata": {
    "collapsed": false
   }
  },
  {
   "cell_type": "code",
   "execution_count": 4,
   "outputs": [],
   "source": [
    "def to_sentences(data):\n",
    "    all_sentences = list()\n",
    "\n",
    "    for idx in data.index:\n",
    "        all_sentences.append(data.iat[idx, 2])\n",
    "\n",
    "    return all_sentences"
   ],
   "metadata": {
    "collapsed": false,
    "pycharm": {
     "name": "#%%\n"
    }
   }
  },
  {
   "cell_type": "code",
   "execution_count": 5,
   "outputs": [
    {
     "name": "stdout",
     "output_type": "stream",
     "text": [
      "41315\n"
     ]
    }
   ],
   "source": [
    "train_df = pd.read_csv(path_train, delimiter='|')\n",
    "sentences = to_sentences(train_df)\n",
    "print(len(sentences))"
   ],
   "metadata": {
    "collapsed": false,
    "pycharm": {
     "name": "#%%\n"
    }
   }
  },
  {
   "cell_type": "code",
   "execution_count": 6,
   "outputs": [],
   "source": [
    "with open(path_sentences, 'wb') as f:\n",
    "    pickle.dump(sentences, f)"
   ],
   "metadata": {
    "collapsed": false,
    "pycharm": {
     "name": "#%%\n"
    }
   }
  },
  {
   "cell_type": "code",
   "execution_count": 14,
   "outputs": [],
   "source": [
    "with open (path_sentences, 'rb') as f:\n",
    "    list_sentences = pickle.load(f)"
   ],
   "metadata": {
    "collapsed": false,
    "pycharm": {
     "name": "#%%\n"
    }
   }
  },
  {
   "cell_type": "markdown",
   "source": [
    "# Выбрать и скопировать изображения"
   ],
   "metadata": {
    "collapsed": false
   }
  },
  {
   "cell_type": "code",
   "execution_count": 56,
   "outputs": [
    {
     "name": "stdout",
     "output_type": "stream",
     "text": [
      "(11804,)\n",
      "(59020, 3)\n"
     ]
    }
   ],
   "source": [
    "df = pd.read_csv(path_captions, sep='|')\n",
    "images_unique = df[\"image_name\"].unique()\n",
    "print(images_unique.shape)\n",
    "print(df.shape)"
   ],
   "metadata": {
    "collapsed": false,
    "pycharm": {
     "name": "#%%\n"
    }
   }
  },
  {
   "cell_type": "code",
   "execution_count": 59,
   "outputs": [
    {
     "name": "stdout",
     "output_type": "stream",
     "text": [
      "скопировано изображений ... 11804\n"
     ]
    }
   ],
   "source": [
    "for image_name in images_unique:\n",
    "    curr_image = start_dir + '/' + image_name\n",
    "    copied_image = end_dir + '/' + image_name\n",
    "    shutil.copy2(curr_image, copied_image )\n",
    "\n",
    "counter = len(os.listdir(path=end_dir))\n",
    "print(\"скопировано изображений ... \" + str(counter))"
   ],
   "metadata": {
    "collapsed": false,
    "pycharm": {
     "name": "#%%\n"
    }
   }
  }
 ],
 "metadata": {
  "kernelspec": {
   "display_name": "Python 3",
   "language": "python",
   "name": "python3"
  },
  "language_info": {
   "codemirror_mode": {
    "name": "ipython",
    "version": 2
   },
   "file_extension": ".py",
   "mimetype": "text/x-python",
   "name": "python",
   "nbconvert_exporter": "python",
   "pygments_lexer": "ipython2",
   "version": "2.7.6"
  }
 },
 "nbformat": 4,
 "nbformat_minor": 0
}