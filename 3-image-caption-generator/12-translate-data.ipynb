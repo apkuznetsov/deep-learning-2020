{
 "cells": [
  {
   "cell_type": "code",
   "execution_count": 2,
   "outputs": [],
   "source": [
    "import json\n",
    "import requests\n",
    "import time\n",
    "import pandas as pd"
   ],
   "metadata": {
    "collapsed": false,
    "pycharm": {
     "name": "#%%\n"
    }
   }
  },
  {
   "cell_type": "code",
   "execution_count": 1,
   "outputs": [],
   "source": [
    "path_dataset = \"D:/datasets/flickr-30k-images\"\n",
    "path_captions = \"D:/YandexDisk/datasets/flickr-30k-images-metadata.csv\"\n",
    "path_prepared_captions = \"D:/flickr-30k-images-metadata.csv\""
   ],
   "metadata": {
    "collapsed": false,
    "pycharm": {
     "name": "#%%\n"
    }
   }
  },
  {
   "cell_type": "code",
   "execution_count": 3,
   "outputs": [
    {
     "data": {
      "text/plain": "       image_name   comment_number  \\\n0  1000092795.jpg                0   \n1  1000092795.jpg                1   \n2  1000092795.jpg                2   \n3  1000092795.jpg                3   \n4  1000092795.jpg                4   \n\n                                             comment  \n0  Two young guys with shaggy hair look at their ...  \n1  Two young, white males are outside near many b...  \n2     Two men in green shirts are standing in a yard  \n3         A man in a blue shirt standing in a garden  \n4              Two friends enjoy time spent together  ",
      "text/html": "<div>\n<style scoped>\n    .dataframe tbody tr th:only-of-type {\n        vertical-align: middle;\n    }\n\n    .dataframe tbody tr th {\n        vertical-align: top;\n    }\n\n    .dataframe thead th {\n        text-align: right;\n    }\n</style>\n<table border=\"1\" class=\"dataframe\">\n  <thead>\n    <tr style=\"text-align: right;\">\n      <th></th>\n      <th>image_name</th>\n      <th>comment_number</th>\n      <th>comment</th>\n    </tr>\n  </thead>\n  <tbody>\n    <tr>\n      <th>0</th>\n      <td>1000092795.jpg</td>\n      <td>0</td>\n      <td>Two young guys with shaggy hair look at their ...</td>\n    </tr>\n    <tr>\n      <th>1</th>\n      <td>1000092795.jpg</td>\n      <td>1</td>\n      <td>Two young, white males are outside near many b...</td>\n    </tr>\n    <tr>\n      <th>2</th>\n      <td>1000092795.jpg</td>\n      <td>2</td>\n      <td>Two men in green shirts are standing in a yard</td>\n    </tr>\n    <tr>\n      <th>3</th>\n      <td>1000092795.jpg</td>\n      <td>3</td>\n      <td>A man in a blue shirt standing in a garden</td>\n    </tr>\n    <tr>\n      <th>4</th>\n      <td>1000092795.jpg</td>\n      <td>4</td>\n      <td>Two friends enjoy time spent together</td>\n    </tr>\n  </tbody>\n</table>\n</div>"
     },
     "execution_count": 3,
     "metadata": {},
     "output_type": "execute_result"
    }
   ],
   "source": [
    "df = pd.read_csv(path_captions, delimiter='|')\n",
    "df.head(5)"
   ],
   "metadata": {
    "collapsed": false,
    "pycharm": {
     "name": "#%%\n"
    }
   }
  },
  {
   "cell_type": "markdown",
   "source": [
    "## Перевод\n",
    "\n",
    "Квоты — организационные ограничения, которые можно изменить по запросу в техническую поддержку.\n",
    "Лимиты — технические ограничения, обусловленные особенностями архитектуры Yandex.Cloud. Изменение лимитов невозможно.\n",
    "\n",
    "Yandex Translate. Квоты (4 апреля 2021):\n",
    "Вызовов одного метода API в секунду – 20\n",
    "Символов, отправленных на перевод, в час – 1 млн"
   ],
   "metadata": {
    "collapsed": false
   }
  },
  {
   "cell_type": "code",
   "execution_count": 134,
   "outputs": [],
   "source": [
    "IAM_TOKEN = \"_____\"\n",
    "FOLDER_ID = \"_____\"\n",
    "\n",
    "BEARER = \"Bearer \" + IAM_TOKEN\n",
    "HEADERS = {\n",
    "    \"Content-type\": \"application/json\",\n",
    "    \"Authorization\": BEARER\n",
    "}\n",
    "\n",
    "def translate_with_yandex(text):\n",
    "    data = {\n",
    "        \"folder_id\": FOLDER_ID,\n",
    "        \"texts\": text,\n",
    "        \"targetLanguageCode\": \"ru\"\n",
    "    }\n",
    "\n",
    "    response = requests.post('https://translate.api.cloud.yandex.net/translate/v2/translate', headers=HEADERS, data=str(data).encode('utf-8'))\n",
    "    json_text = json.loads(response.text)\n",
    "\n",
    "    return json_text[\"translations\"][0][\"text\"]"
   ],
   "metadata": {
    "collapsed": false,
    "pycharm": {
     "name": "#%%\n"
    }
   }
  },
  {
   "cell_type": "code",
   "execution_count": 135,
   "outputs": [
    {
     "data": {
      "text/plain": "'облако'"
     },
     "execution_count": 135,
     "metadata": {},
     "output_type": "execute_result"
    }
   ],
   "source": [
    "translate_with_yandex(\"cloud\")"
   ],
   "metadata": {
    "collapsed": false,
    "pycharm": {
     "name": "#%%\n"
    }
   }
  },
  {
   "cell_type": "code",
   "execution_count": 21,
   "outputs": [],
   "source": [
    "def request_yandex_translate(data, col_name, start_index, end_index):\n",
    "    start = start_index\n",
    "    count_iters = 0\n",
    "\n",
    "    for idx in range(start_index, end_index+1, 20):\n",
    "        start_time = time.time()\n",
    "\n",
    "        df_twenty = data[start:idx]\n",
    "        start = idx\n",
    "\n",
    "        for idx_twenty in df_twenty.index:\n",
    "            df_twenty.at[idx_twenty, col_name] = translate_with_yandex(df_twenty.at[idx_twenty, col_name])\n",
    "\n",
    "        count_iters += 20\n",
    "        if count_iters > 999:\n",
    "            data.to_csv(\"D:/temp.csv\", sep='|', encoding='utf-8', index=False)\n",
    "            count_iters = 0\n",
    "\n",
    "        time_difference = time.time() - start_time\n",
    "\n",
    "        if time_difference < 1.0:\n",
    "            time.sleep(1.01 - time_difference)"
   ],
   "metadata": {
    "collapsed": false,
    "pycharm": {
     "name": "#%%\n"
    }
   }
  },
  {
   "cell_type": "markdown",
   "source": [
    "## Подсчёт количества знаков"
   ],
   "metadata": {
    "collapsed": false,
    "pycharm": {
     "name": "#%% md\n"
    }
   }
  },
  {
   "cell_type": "code",
   "execution_count": 1,
   "outputs": [],
   "source": [
    "def count_chars_num(data, start_index, end_index, max_count):\n",
    "    chars_counter = 0\n",
    "    last_idx = -1\n",
    "\n",
    "    for idx in range(start_index, end_index+1):\n",
    "        chars_counter += len(data.iloc[idx, 2])\n",
    "        if chars_counter > max_count:\n",
    "            last_idx = idx\n",
    "            break\n",
    "\n",
    "    return chars_counter, last_idx"
   ],
   "metadata": {
    "collapsed": false,
    "pycharm": {
     "name": "#%%\n"
    }
   }
  },
  {
   "cell_type": "code",
   "execution_count": 23,
   "outputs": [
    {
     "name": "stdout",
     "output_type": "stream",
     "text": [
      "33234\n",
      "1000103\n"
     ]
    }
   ],
   "source": [
    "counter, idx = count_chars_num(df, 0, 16460, 1000000)\n",
    "\n",
    "print(idx)\n",
    "print(counter)"
   ],
   "metadata": {
    "collapsed": false,
    "pycharm": {
     "name": "#%%\n"
    }
   }
  },
  {
   "cell_type": "markdown",
   "source": [
    "## Выбрать по миллиону символов\n",
    "\n",
    "(1) 0 -- 16460\n",
    "(2) 16461 -- 33234\n",
    "(3) 33235 -- 50124\n",
    "(4) 50125 -- 67337\n",
    "(5) 67338 -- 80713"
   ],
   "metadata": {
    "collapsed": false
   }
  },
  {
   "cell_type": "code",
   "execution_count": 29,
   "outputs": [
    {
     "data": {
      "text/plain": "(16773, 3)"
     },
     "execution_count": 29,
     "metadata": {},
     "output_type": "execute_result"
    }
   ],
   "source": [
    "first_idx = 16461\n",
    "second_idx = 33234\n",
    "\n",
    "df_to_trans = df[first_idx:second_idx]\n",
    "df_to_trans.shape"
   ],
   "metadata": {
    "collapsed": false,
    "pycharm": {
     "name": "#%%\n"
    }
   }
  },
  {
   "cell_type": "code",
   "execution_count": 30,
   "outputs": [],
   "source": [
    "df_to_trans.to_csv(\"D:/million-flickr-30k-images-metadata.csv\", sep='|', encoding='utf-8', index=False)"
   ],
   "metadata": {
    "collapsed": false,
    "pycharm": {
     "name": "#%%\n"
    }
   }
  },
  {
   "cell_type": "markdown",
   "source": [
    "## Перевести миллион символов"
   ],
   "metadata": {
    "collapsed": false,
    "pycharm": {
     "name": "#%% md\n"
    }
   }
  },
  {
   "cell_type": "code",
   "execution_count": 30,
   "outputs": [
    {
     "data": {
      "text/plain": "           image_name   comment_number  \\\n16768  2547366477.jpg                4   \n16769  2547785434.jpg                0   \n16770  2547785434.jpg                1   \n16771  2547785434.jpg                2   \n16772  2547785434.jpg                3   \n\n                                                 comment  \n16768                A man and two children at the beach  \n16769  A small and gray dog chases a large bull who i...  \n16770  A brown and white cow jumps away from a black ...  \n16771  A black and white dog is playing with a large ...  \n16772            A small dog chasing after a bucking cow  ",
      "text/html": "<div>\n<style scoped>\n    .dataframe tbody tr th:only-of-type {\n        vertical-align: middle;\n    }\n\n    .dataframe tbody tr th {\n        vertical-align: top;\n    }\n\n    .dataframe thead th {\n        text-align: right;\n    }\n</style>\n<table border=\"1\" class=\"dataframe\">\n  <thead>\n    <tr style=\"text-align: right;\">\n      <th></th>\n      <th>image_name</th>\n      <th>comment_number</th>\n      <th>comment</th>\n    </tr>\n  </thead>\n  <tbody>\n    <tr>\n      <th>16768</th>\n      <td>2547366477.jpg</td>\n      <td>4</td>\n      <td>A man and two children at the beach</td>\n    </tr>\n    <tr>\n      <th>16769</th>\n      <td>2547785434.jpg</td>\n      <td>0</td>\n      <td>A small and gray dog chases a large bull who i...</td>\n    </tr>\n    <tr>\n      <th>16770</th>\n      <td>2547785434.jpg</td>\n      <td>1</td>\n      <td>A brown and white cow jumps away from a black ...</td>\n    </tr>\n    <tr>\n      <th>16771</th>\n      <td>2547785434.jpg</td>\n      <td>2</td>\n      <td>A black and white dog is playing with a large ...</td>\n    </tr>\n    <tr>\n      <th>16772</th>\n      <td>2547785434.jpg</td>\n      <td>3</td>\n      <td>A small dog chasing after a bucking cow</td>\n    </tr>\n  </tbody>\n</table>\n</div>"
     },
     "execution_count": 30,
     "metadata": {},
     "output_type": "execute_result"
    }
   ],
   "source": [
    "df_to_trans = pd.read_csv(\"D:/YandexDisk/datasets/million-flickr-30k-images-metadata.csv.csv\", delimiter='|')\n",
    "df_to_trans.tail(5)"
   ],
   "metadata": {
    "collapsed": false,
    "pycharm": {
     "name": "#%%\n"
    }
   }
  },
  {
   "cell_type": "code",
   "execution_count": 31,
   "outputs": [
    {
     "name": "stdout",
     "output_type": "stream",
     "text": [
      "Wall time: 1h 43min 26s\n"
     ]
    }
   ],
   "source": [
    "%%time\n",
    "request_yandex_translate(df_to_trans, \" comment\", 0, 16772)"
   ],
   "metadata": {
    "collapsed": false,
    "pycharm": {
     "name": "#%%\n"
    }
   }
  },
  {
   "cell_type": "code",
   "execution_count": 49,
   "outputs": [],
   "source": [
    "df_to_trans.to_csv(\"D:/russian-flickr-30k-images-metadata-0.csv\", sep='|', encoding='utf-8', index=False)"
   ],
   "metadata": {
    "collapsed": false,
    "pycharm": {
     "name": "#%%\n"
    }
   }
  },
  {
   "cell_type": "markdown",
   "source": [
    "## Объединить переведённые данные"
   ],
   "metadata": {
    "collapsed": false,
    "pycharm": {
     "name": "#%% md\n"
    }
   }
  },
  {
   "cell_type": "code",
   "execution_count": 4,
   "outputs": [],
   "source": [
    "df1 = pd.read_csv(\"D:/YandexDisk/datasets/russian-flickr-30k-images-metadata-1.csv\", delimiter='|')\n",
    "df2 = pd.read_csv(\"D:/YandexDisk/datasets/russian-flickr-30k-images-metadata-2.csv\", delimiter='|')\n",
    "df3 = pd.read_csv(\"D:/YandexDisk/datasets/russian-flickr-30k-images-metadata-3.csv\", delimiter='|')\n",
    "df4 = pd.read_csv(\"D:/YandexDisk/datasets/russian-flickr-30k-images-metadata-4.csv\", delimiter='|')\n",
    "df5 = pd.read_csv(\"D:/YandexDisk/datasets/russian-flickr-30k-images-metadata-5.csv\", delimiter='|')\n",
    "\n",
    "df_concated = pd.concat([df1, df2, df3, df4, df5])"
   ],
   "metadata": {
    "collapsed": false,
    "pycharm": {
     "name": "#%%\n"
    }
   }
  },
  {
   "cell_type": "code",
   "execution_count": 5,
   "outputs": [
    {
     "data": {
      "text/plain": "(80715, 3)"
     },
     "execution_count": 5,
     "metadata": {},
     "output_type": "execute_result"
    }
   ],
   "source": [
    "df_concated.shape"
   ],
   "metadata": {
    "collapsed": false,
    "pycharm": {
     "name": "#%%\n"
    }
   }
  },
  {
   "cell_type": "code",
   "execution_count": 6,
   "outputs": [],
   "source": [
    "df_concated.to_csv(\"D:/russian-flickr-30k-images-metadata.csv\", sep='|', encoding='utf-8', index=False)"
   ],
   "metadata": {
    "collapsed": false,
    "pycharm": {
     "name": "#%%\n"
    }
   }
  }
 ],
 "metadata": {
  "kernelspec": {
   "display_name": "Python 3",
   "language": "python",
   "name": "python3"
  },
  "language_info": {
   "codemirror_mode": {
    "name": "ipython",
    "version": 2
   },
   "file_extension": ".py",
   "mimetype": "text/x-python",
   "name": "python",
   "nbconvert_exporter": "python",
   "pygments_lexer": "ipython2",
   "version": "2.7.6"
  }
 },
 "nbformat": 4,
 "nbformat_minor": 0
}