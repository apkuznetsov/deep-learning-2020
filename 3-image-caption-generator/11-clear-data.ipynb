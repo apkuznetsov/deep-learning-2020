{
 "cells": [
  {
   "cell_type": "code",
   "execution_count": 1,
   "metadata": {
    "collapsed": true,
    "pycharm": {
     "name": "#%%\n"
    }
   },
   "outputs": [],
   "source": [
    "import pandas as pd"
   ]
  },
  {
   "cell_type": "markdown",
   "source": [
    "## Набор данных"
   ],
   "metadata": {
    "collapsed": false,
    "pycharm": {
     "name": "#%% md\n"
    }
   }
  },
  {
   "cell_type": "code",
   "execution_count": 173,
   "outputs": [],
   "source": [
    "path_dataset = \"D:/datasets/flickr-30k-images\"\n",
    "path_captions = \"D:/YandexDisk/datasets/flickr-30k-images-metadata.csv\"\n",
    "path_prepared_captions = \"D:/flickr-30k-images-metadata.csv\""
   ],
   "metadata": {
    "collapsed": false,
    "pycharm": {
     "name": "#%%\n"
    }
   }
  },
  {
   "cell_type": "code",
   "execution_count": 47,
   "outputs": [
    {
     "data": {
      "text/plain": "       image_name   comment_number  \\\n0  1000092795.jpg                0   \n1  1000092795.jpg                1   \n2  1000092795.jpg                2   \n3  1000092795.jpg                3   \n4  1000092795.jpg                4   \n\n                                             comment  \n0   Two young guys with shaggy hair look at their...  \n1   Two young , White males are outside near many...  \n2   Two men in green shirts are standing in a yard .  \n3       A man in a blue shirt standing in a garden .  \n4            Two friends enjoy time spent together .  ",
      "text/html": "<div>\n<style scoped>\n    .dataframe tbody tr th:only-of-type {\n        vertical-align: middle;\n    }\n\n    .dataframe tbody tr th {\n        vertical-align: top;\n    }\n\n    .dataframe thead th {\n        text-align: right;\n    }\n</style>\n<table border=\"1\" class=\"dataframe\">\n  <thead>\n    <tr style=\"text-align: right;\">\n      <th></th>\n      <th>image_name</th>\n      <th>comment_number</th>\n      <th>comment</th>\n    </tr>\n  </thead>\n  <tbody>\n    <tr>\n      <th>0</th>\n      <td>1000092795.jpg</td>\n      <td>0</td>\n      <td>Two young guys with shaggy hair look at their...</td>\n    </tr>\n    <tr>\n      <th>1</th>\n      <td>1000092795.jpg</td>\n      <td>1</td>\n      <td>Two young , White males are outside near many...</td>\n    </tr>\n    <tr>\n      <th>2</th>\n      <td>1000092795.jpg</td>\n      <td>2</td>\n      <td>Two men in green shirts are standing in a yard .</td>\n    </tr>\n    <tr>\n      <th>3</th>\n      <td>1000092795.jpg</td>\n      <td>3</td>\n      <td>A man in a blue shirt standing in a garden .</td>\n    </tr>\n    <tr>\n      <th>4</th>\n      <td>1000092795.jpg</td>\n      <td>4</td>\n      <td>Two friends enjoy time spent together .</td>\n    </tr>\n  </tbody>\n</table>\n</div>"
     },
     "execution_count": 47,
     "metadata": {},
     "output_type": "execute_result"
    }
   ],
   "source": [
    "df = pd.read_csv(path_captions, delimiter='|')\n",
    "df.head(5)"
   ],
   "metadata": {
    "collapsed": false,
    "pycharm": {
     "name": "#%%\n"
    }
   }
  },
  {
   "cell_type": "code",
   "execution_count": 98,
   "outputs": [
    {
     "data": {
      "text/plain": "'Two young, white males are outside near many bushes'"
     },
     "execution_count": 98,
     "metadata": {},
     "output_type": "execute_result"
    }
   ],
   "source": [
    "df.iat[1, 2]"
   ],
   "metadata": {
    "collapsed": false,
    "pycharm": {
     "name": "#%%\n"
    }
   }
  },
  {
   "cell_type": "markdown",
   "source": [
    "# Подготовка к переводу\n",
    "\n",
    "### Исправить некоторые знаки препинания\n",
    "\n",
    "– Первая буква предложения – заглавная.\n",
    "– Удалить пробелы в начале и в конце.\n",
    "– Удалить точку в конце.\n",
    "– Удалить точку.\n",
    "– Удалить пробел перед запятой.\n",
    "– Удалить пробел перед апострофом.\n",
    "– Удалить многоточие.\n",
    "– Удалить вопросительный знак.\n",
    "– Удалить восклицательный знак.\n",
    "– Заменить двоеточие на запятую.\n",
    "– Заменить точку с запятой на запятую.\n",
    "– Заменить латинский апостроф на английский."
   ],
   "metadata": {
    "collapsed": false,
    "pycharm": {
     "name": "#%% md\n"
    }
   }
  },
  {
   "cell_type": "code",
   "execution_count": 2,
   "outputs": [],
   "source": [
    "def fix_punctuation_marks(a_sentence):\n",
    "    return a_sentence\\\n",
    "        .strip()\\\n",
    "        .capitalize()\\\n",
    "        .replace(\" .\", \"\")\\\n",
    "        .replace(\".\", \"\")\\\n",
    "        .replace(\" ,\", \",\")\\\n",
    "        .replace(\" '\", \"'\")\\\n",
    "        .replace(\" ...\", \"\")\\\n",
    "        .replace(\"...\", \"\")\\\n",
    "        .replace(\" ?\", \"\")\\\n",
    "        .replace(\"?\", \"\")\\\n",
    "        .replace(\" !\", \"\")\\\n",
    "        .replace(\"!\", \"\")\\\n",
    "        .replace(\" : \", \", \")\\\n",
    "        .replace(\" :\", \", \")\\\n",
    "        .replace(\" ; \", \", \")\\\n",
    "        .replace(\"’\", \"'\")"
   ],
   "metadata": {
    "collapsed": false,
    "pycharm": {
     "name": "#%%\n"
    }
   }
  },
  {
   "cell_type": "markdown",
   "source": [
    "### Заменить некоторые числа на текст"
   ],
   "metadata": {
    "collapsed": false
   }
  },
  {
   "cell_type": "code",
   "execution_count": 43,
   "outputs": [],
   "source": [
    "def replace_some_numbers_with_text(a_sentence):\n",
    "    return a_sentence\\\n",
    "        .replace(\" 0 \", \"zero\")\\\n",
    "        .replace(\" 1 \", \"one\")\\\n",
    "        .replace(\" 2 \", \"two\")\\\n",
    "        .replace(\" 3 \", \"three\")\\\n",
    "        .replace(\" 4 \", \"four\")\\\n",
    "        .replace(\" 5 \", \"five\")\\\n",
    "        .replace(\" 6 \", \"six\")\\\n",
    "        .replace(\" 7 \", \"seven\")\\\n",
    "        .replace(\" 8 \", \"eight\")\\\n",
    "        .replace(\" 9 \", \"nine\")"
   ],
   "metadata": {
    "collapsed": false,
    "pycharm": {
     "name": "#%%\n"
    }
   }
  },
  {
   "cell_type": "markdown",
   "source": [
    "### Заменить некоторые числа в начале предложения на текст"
   ],
   "metadata": {
    "collapsed": false,
    "pycharm": {
     "name": "#%% md\n"
    }
   }
  },
  {
   "cell_type": "code",
   "execution_count": 4,
   "outputs": [],
   "source": [
    "def replace_some_start_numbers_with_text(a_sentence):\n",
    "    if a_sentence[1] != ' ':\n",
    "        return a_sentence\n",
    "\n",
    "    text = \"\"\n",
    "    if a_sentence[0] == '0':\n",
    "        text = \"Zero\"\n",
    "    elif a_sentence[0] == '1':\n",
    "        text = \"One\"\n",
    "    elif a_sentence[0] == '2':\n",
    "        text = \"Two\"\n",
    "    elif a_sentence[0] == '3':\n",
    "        text = \"Three\"\n",
    "    elif a_sentence[0] == '4':\n",
    "        text = \"Four\"\n",
    "    elif a_sentence[0] == '5':\n",
    "        text = \"Five\"\n",
    "    elif a_sentence[0] == '6':\n",
    "        text = \"Six\"\n",
    "    elif a_sentence[0] == '7':\n",
    "        text = \"Seven\"\n",
    "    elif a_sentence[0] == '8':\n",
    "        text = \"Eight\"\n",
    "    elif a_sentence[0] == '9':\n",
    "        text = \"Nine\"\n",
    "\n",
    "    a_sentence = text + a_sentence[1:]\n",
    "    return a_sentence"
   ],
   "metadata": {
    "collapsed": false,
    "pycharm": {
     "name": "#%%\n"
    }
   }
  },
  {
   "cell_type": "markdown",
   "source": [
    "# ***\n",
    "\n",
    "– Найти кавычки.\n",
    "– Найти числа.\n",
    "– Найти двоеточие."
   ],
   "metadata": {
    "collapsed": false
   }
  },
  {
   "cell_type": "code",
   "execution_count": 10,
   "outputs": [],
   "source": [
    "def is_there_number(sentence):\n",
    "    for i in sentence.split():\n",
    "        if i.isdigit():\n",
    "            return True\n",
    "\n",
    "    return False"
   ],
   "metadata": {
    "collapsed": false,
    "pycharm": {
     "name": "#%%\n"
    }
   }
  },
  {
   "cell_type": "code",
   "execution_count": 3,
   "outputs": [],
   "source": [
    "def fix_dataframe(data, out_idxs_to_delete):\n",
    "    count_chars = 0\n",
    "\n",
    "    for idx in data.index:\n",
    "        sentence = fix_punctuation_marks(data.iat[idx, 2])\n",
    "        sentence = replace_some_numbers_with_text(sentence)\n",
    "        sentence = replace_some_start_numbers_with_text(sentence)\n",
    "        data.iat[idx, 2] = sentence\n",
    "\n",
    "        if sentence.find('\"') != -1:\n",
    "            out_idxs_to_delete.append(idx)\n",
    "        elif is_there_number(sentence):\n",
    "            out_idxs_to_delete.append(idx)\n",
    "        elif sentence.find(':') != -1:\n",
    "            out_idxs_to_delete.append(idx)\n",
    "\n",
    "        count_chars += len(sentence)\n",
    "\n",
    "    return count_chars"
   ],
   "metadata": {
    "collapsed": false,
    "pycharm": {
     "name": "#%%\n"
    }
   }
  },
  {
   "cell_type": "code",
   "execution_count": 54,
   "outputs": [
    {
     "name": "stdout",
     "output_type": "stream",
     "text": [
      "9871649\n"
     ]
    }
   ],
   "source": [
    "idxs_to_delete = []\n",
    "chars_num = fix_dataframe(df, idxs_to_delete)\n",
    "print(chars_num)"
   ],
   "metadata": {
    "collapsed": false,
    "pycharm": {
     "name": "#%%\n"
    }
   }
  },
  {
   "cell_type": "markdown",
   "source": [
    "# Удалить изображения\n",
    "\n",
    "– у которых в описании есть кавычки\n",
    "– у которых в описании есть число\n",
    "– у которых в описании есть двоеточие"
   ],
   "metadata": {
    "collapsed": false
   }
  },
  {
   "cell_type": "code",
   "execution_count": 7,
   "outputs": [
    {
     "data": {
      "text/plain": "(672,)"
     },
     "execution_count": 7,
     "metadata": {},
     "output_type": "execute_result"
    }
   ],
   "source": [
    "df_to_delete = df.loc[idxs_to_delete, :]\n",
    "images_to_delete = df_to_delete[\"image_name\"].unique()"
   ],
   "metadata": {
    "collapsed": false,
    "pycharm": {
     "name": "#%%\n"
    }
   }
  },
  {
   "cell_type": "code",
   "execution_count": 9,
   "outputs": [
    {
     "data": {
      "text/plain": "(155555, 3)"
     },
     "execution_count": 9,
     "metadata": {},
     "output_type": "execute_result"
    }
   ],
   "source": [
    "df = df[~df.image_name.isin(images_to_delete)]\n",
    "df.shape"
   ],
   "metadata": {
    "collapsed": false,
    "pycharm": {
     "name": "#%%\n"
    }
   }
  },
  {
   "cell_type": "code",
   "execution_count": 11,
   "outputs": [
    {
     "data": {
      "text/plain": "       image_name   comment_number  \\\n0  1000092795.jpg                0   \n1  1000092795.jpg                1   \n2  1000092795.jpg                2   \n3  1000092795.jpg                3   \n4  1000092795.jpg                4   \n\n                                             comment  \n0  Two young guys with shaggy hair look at their ...  \n1  Two young, white males are outside near many b...  \n2     Two men in green shirts are standing in a yard  \n3         A man in a blue shirt standing in a garden  \n4              Two friends enjoy time spent together  ",
      "text/html": "<div>\n<style scoped>\n    .dataframe tbody tr th:only-of-type {\n        vertical-align: middle;\n    }\n\n    .dataframe tbody tr th {\n        vertical-align: top;\n    }\n\n    .dataframe thead th {\n        text-align: right;\n    }\n</style>\n<table border=\"1\" class=\"dataframe\">\n  <thead>\n    <tr style=\"text-align: right;\">\n      <th></th>\n      <th>image_name</th>\n      <th>comment_number</th>\n      <th>comment</th>\n    </tr>\n  </thead>\n  <tbody>\n    <tr>\n      <th>0</th>\n      <td>1000092795.jpg</td>\n      <td>0</td>\n      <td>Two young guys with shaggy hair look at their ...</td>\n    </tr>\n    <tr>\n      <th>1</th>\n      <td>1000092795.jpg</td>\n      <td>1</td>\n      <td>Two young, white males are outside near many b...</td>\n    </tr>\n    <tr>\n      <th>2</th>\n      <td>1000092795.jpg</td>\n      <td>2</td>\n      <td>Two men in green shirts are standing in a yard</td>\n    </tr>\n    <tr>\n      <th>3</th>\n      <td>1000092795.jpg</td>\n      <td>3</td>\n      <td>A man in a blue shirt standing in a garden</td>\n    </tr>\n    <tr>\n      <th>4</th>\n      <td>1000092795.jpg</td>\n      <td>4</td>\n      <td>Two friends enjoy time spent together</td>\n    </tr>\n  </tbody>\n</table>\n</div>"
     },
     "execution_count": 11,
     "metadata": {},
     "output_type": "execute_result"
    }
   ],
   "source": [
    "df.head(5)"
   ],
   "metadata": {
    "collapsed": false,
    "pycharm": {
     "name": "#%%\n"
    }
   }
  },
  {
   "cell_type": "markdown",
   "source": [
    "## Сохранить dataframe в файл"
   ],
   "metadata": {
    "collapsed": false
   }
  },
  {
   "cell_type": "code",
   "execution_count": 97,
   "outputs": [],
   "source": [
    "df.to_csv(path_prepared_captions, sep='|', encoding='utf-8', index=False)"
   ],
   "metadata": {
    "collapsed": false,
    "pycharm": {
     "name": "#%%\n"
    }
   }
  }
 ],
 "metadata": {
  "kernelspec": {
   "display_name": "Python 3",
   "language": "python",
   "name": "python3"
  },
  "language_info": {
   "codemirror_mode": {
    "name": "ipython",
    "version": 2
   },
   "file_extension": ".py",
   "mimetype": "text/x-python",
   "name": "python",
   "nbconvert_exporter": "python",
   "pygments_lexer": "ipython2",
   "version": "2.7.6"
  }
 },
 "nbformat": 4,
 "nbformat_minor": 0
}