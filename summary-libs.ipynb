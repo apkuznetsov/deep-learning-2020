{
 "cells": [
  {
   "cell_type": "markdown",
   "id": "studied-imaging",
   "metadata": {},
   "source": [
    "# Keras API"
   ]
  },
  {
   "cell_type": "markdown",
   "id": "rotary-israel",
   "metadata": {},
   "source": [
    "### fit_generator\n",
    "\n",
    "Поставляет модель Keras Sequential на основе данных, сгенерированных пакетно по пакетам генератором Python (или экземпляром Sequence).\n",
    "\n",
    "Генератор работает параллельно с моделью, для большей эффективности. Например, это позволяет выполнять увеличение данных на изображениях на CPU в реальном времени параллельно с обучением модели на GPU.\n",
    "\n",
    "Использование ```keras.utils.Sequence``` гарантирует упорядочение и однократное использование каждого входа в эпоху при использовании ```use_multiprocessing=True```.\n",
    "\n",
    "```generator```: Генератор или экземпляр объекта ```keras.utils.Sequence```, чтобы избежать дублирования данных при использовании многопроцессорной обработки. \n",
    "\n",
    "Выходной сигнал генератора должен быть либо кортеж (inputs, targets), либо кортеж (inputs, targets, sample_weights).\n",
    "Этот кортеж (один выход генератора) составляет одну партию. Поэтому все массивы в этом кортеже должны иметь одинаковую длину (равную размеру этой партии). Различные партии могут иметь разные размеры. Например, последняя партия эпохи обычно меньше остальных, если размер набора данных не делится на размер партии. Предполагается, что генератор будет перебирать данные бесконечно. Эпоха заканчивается, когда модель видит партии ```steps_per_epoch```."
   ]
  },
  {
   "cell_type": "markdown",
   "id": "alternate-consequence",
   "metadata": {},
   "source": [
    "### ImageGenerator(Sequence)\n",
    "\n",
    "Обучение с ```fit_generator```:\n",
    "1. Получение данных партиями от генератора;\n",
    "2. Обновление весов модели на основе полученной партии;\n",
    "3. Повторять.\n",
    "________\n",
    "```Sequence``` are a safer way to do multiprocessing. This structure guarantees that the network will only train once on each sample per epoch which is not the case with generators.\n",
    "________\n",
    "```__getitem__(self, idx)``` gets batch at position index.\n",
    "* ```idx``` – индекс партии.\n",
    "________\n",
    "```__iter__``` create a generator that iterate over the ```Sequence```.\n",
    "* ```len(self)```                 – возвращает кол-во партий.\n",
    "* ```for i in range(len(self))``` – для каждой партии.\n",
    "________\n",
    "```__len__``` gets the number of batch in the ```Sequence```.\n",
    "________\n",
    "shape=(224,224,3)\n",
    "* 244 – ширина изображения;\n",
    "* 244 – высота изображения;\n",
    "* 3 – цвет в RGB.\n",
    "________\n",
    "Note: each Keras Application expects a specific kind of input preprocessing. \n",
    "For ```DenseNet```, call ```tf.keras.applications.densenet.preprocess_input``` on your inputs before passing them to the model."
   ]
  },
  {
   "cell_type": "markdown",
   "source": [
    "### ModelCheckpoint\n",
    "\n",
    "Callback to save the Keras model or model weights at some frequency.\n",
    "\n",
    "ModelCheckpoint callback is used in conjunction with training using model.fit() to save a model or weights (in a checkpoint file) at some interval, so the model or weights can be loaded later to continue the training from the state saved.\n",
    "\n",
    "```monitor``` – The metric name to monitor.\n",
    "Prefix the name with ```val_``` to monitor validation metrics.\n",
    "\n",
    "```verbose=0``` will show you nothing (silent).\n",
    "```verbose=1``` will show you an animated progress bar.\n",
    "\n",
    "```save_best_only```: if ```save_best_only=True```, it only saves when the model is considered the \"best\" and the latest best model according to the quantity monitored will not be overwritten.\n",
    "If filepath doesn't contain formatting options like {epoch} then filepath will be overwritten by each new better model.\n",
    "\n",
    "```mode```: one of {'auto', 'min', 'max'}. If ```save_best_only=True```, the decision to overwrite the current save file is made based on either the maximization or the minimization of the monitored quantity.\n",
    "For ```val_acc```, this should be ```max```, for ```val_loss``` this should be ```min```, etc. In ```auto``` mode, the direction is automatically inferred from the name of the monitored quantity.\n",
    "\n",
    "https://keras.io/api/callbacks/model_checkpoint/"
   ],
   "metadata": {
    "collapsed": false
   }
  },
  {
   "cell_type": "markdown",
   "source": [
    "# Keras API reference / Layers API / Convolution layers / Conv1D layer\n",
    "\n",
    "https://www.tensorflow.org/api_docs/python/tf/keras/layers/Conv1D\n",
    "https://keras.io/api/layers/convolution_layers/convolution1d/\n",
    "\n",
    "This layer creates a convolution kernel that is convolved with the layer input over a single spatial (or temporal) dimension to produce a tensor of outputs. If use_bias is True, a bias vector is created and added to the outputs. Finally, if activation is not None, it is applied to the outputs as well.\n",
    "\n",
    "```filters``` – Integer, the dimensionality of the output space (i.e. the number of output filters in the convolution).\n",
    "\n",
    "```kernel_size``` – An integer or tuple/list of a single integer, specifying the length of the 1D convolution window."
   ],
   "metadata": {
    "collapsed": false,
    "pycharm": {
     "name": "#%% md\n"
    }
   }
  },
  {
   "cell_type": "markdown",
   "source": [
    "## Keras API reference / Layers API / Convolution layers / Conv2D layer\n",
    "\n",
    "```filters```: Integer, the dimensionality of the output space (i.e. the number of output filters in the convolution).\n",
    "\n",
    "```kernel_size```: An integer or tuple/list of 2 integers, specifying the height and width of the 2D convolution window. Can be a single integer to specify the same value for all spatial dimensions.\n",
    "\n",
    "```strides```: An integer or tuple/list of 2 integers, specifying the strides of the convolution along the height and width. Can be a single integer to specify the same value for all spatial dimensions. Specifying any stride value != 1 is incompatible with specifying any dilation_rate value != 1.\n",
    "\n",
    "```padding```: one of \"valid\" or \"same\" (case-insensitive). \"valid\" means no padding. \"same\" results in padding evenly to the left/right or up/down of the input such that output has the same height/width dimension as the input."
   ],
   "metadata": {
    "collapsed": false,
    "pycharm": {
     "name": "#%% md\n"
    }
   }
  },
  {
   "cell_type": "markdown",
   "source": [
    "## Keras API reference / Data preprocessing / Timeseries data preprocessing\n",
    "## tf.keras.preprocessing.timeseries_dataset_from_array\n",
    "\n",
    "This function takes in a sequence of data-points gathered at equal intervals, along with time series parameters such as length of the sequences/windows, spacing between two sequence/windows, etc., to produce batches of timeseries inputs and targets.\n",
    "\n",
    "```data``` – Numpy array or eager tensor containing consecutive data points (timesteps). Axis 0 is expected to be the time dimension.\n",
    "\n",
    "```sequence_length``` – Length of the output sequences (in number of timesteps).\n",
    "\n",
    "```shuffle``` – Whether to shuffle output samples, or instead draw them in chronological order.\n",
    "\n",
    "```batch_size``` – Number of timeseries samples in each batch (except maybe the last one)."
   ],
   "metadata": {
    "collapsed": false,
    "pycharm": {
     "name": "#%% md\n"
    }
   }
  }
 ],
 "metadata": {
  "kernelspec": {
   "display_name": "Python 3",
   "language": "python",
   "name": "python3"
  },
  "language_info": {
   "codemirror_mode": {
    "name": "ipython",
    "version": 3
   },
   "file_extension": ".py",
   "mimetype": "text/x-python",
   "name": "python",
   "nbconvert_exporter": "python",
   "pygments_lexer": "ipython3",
   "version": "3.8.8"
  }
 },
 "nbformat": 4,
 "nbformat_minor": 5
}