{
 "cells": [
  {
   "cell_type": "code",
   "execution_count": 1,
   "metadata": {
    "collapsed": true
   },
   "outputs": [],
   "source": [
    "import torch\n",
    "import numpy as np"
   ]
  },
  {
   "cell_type": "code",
   "execution_count": 2,
   "outputs": [],
   "source": [
    "input_images = torch.tensor(\n",
    "      [[[[0,  1,  2],\n",
    "         [3,  4,  5],\n",
    "         [6,  7,  8]],\n",
    "\n",
    "        [[9, 10, 11],\n",
    "         [12, 13, 14],\n",
    "         [15, 16, 17]],\n",
    "\n",
    "        [[18, 19, 20],\n",
    "         [21, 22, 23],\n",
    "         [24, 25, 26]]],\n",
    "\n",
    "\n",
    "       [[[27, 28, 29],\n",
    "         [30, 31, 32],\n",
    "         [33, 34, 35]],\n",
    "\n",
    "        [[36, 37, 38],\n",
    "         [39, 40, 41],\n",
    "         [42, 43, 44]],\n",
    "\n",
    "        [[45, 46, 47],\n",
    "         [48, 49, 50],\n",
    "         [51, 52, 53]]]])\n",
    "\n",
    "\n",
    "def get_padding2d(input_images):\n",
    "    padded_images = torch.nn.functional.pad(input_images, [1,1,1,1]).float()\n",
    "    return padded_images\n",
    "\n",
    "\n",
    "correct_padded_images = torch.tensor(\n",
    "       [[[[0.,  0.,  0.,  0.,  0.],\n",
    "          [0.,  0.,  1.,  2.,  0.],\n",
    "          [0.,  3.,  4.,  5.,  0.],\n",
    "          [0.,  6.,  7.,  8.,  0.],\n",
    "          [0.,  0.,  0.,  0.,  0.]],\n",
    "\n",
    "         [[0.,  0.,  0.,  0.,  0.],\n",
    "          [0.,  9., 10., 11.,  0.],\n",
    "          [0., 12., 13., 14.,  0.],\n",
    "          [0., 15., 16., 17.,  0.],\n",
    "          [0.,  0.,  0.,  0.,  0.]],\n",
    "\n",
    "         [[0.,  0.,  0.,  0.,  0.],\n",
    "          [0., 18., 19., 20.,  0.],\n",
    "          [0., 21., 22., 23.,  0.],\n",
    "          [0., 24., 25., 26.,  0.],\n",
    "          [0.,  0.,  0.,  0.,  0.]]],\n",
    "\n",
    "\n",
    "        [[[0.,  0.,  0.,  0.,  0.],\n",
    "          [0., 27., 28., 29.,  0.],\n",
    "          [0., 30., 31., 32.,  0.],\n",
    "          [0., 33., 34., 35.,  0.],\n",
    "          [0.,  0.,  0.,  0.,  0.]],\n",
    "\n",
    "         [[0.,  0.,  0.,  0.,  0.],\n",
    "          [0., 36., 37., 38.,  0.],\n",
    "          [0., 39., 40., 41.,  0.],\n",
    "          [0., 42., 43., 44.,  0.],\n",
    "          [0.,  0.,  0.,  0.,  0.]],\n",
    "\n",
    "         [[0.,  0.,  0.,  0.,  0.],\n",
    "          [0., 45., 46., 47.,  0.],\n",
    "          [0., 48., 49., 50.,  0.],\n",
    "          [0., 51., 52., 53.,  0.],\n",
    "          [0.,  0.,  0.,  0.,  0.]]]])"
   ],
   "metadata": {
    "collapsed": false,
    "pycharm": {
     "name": "#%%\n"
    }
   }
  },
  {
   "cell_type": "code",
   "execution_count": 3,
   "outputs": [
    {
     "name": "stdout",
     "output_type": "stream",
     "text": [
      "True\n"
     ]
    }
   ],
   "source": [
    "print(torch.allclose(get_padding2d(input_images), correct_padded_images))"
   ],
   "metadata": {
    "collapsed": false,
    "pycharm": {
     "name": "#%%\n"
    }
   }
  },
  {
   "cell_type": "markdown",
   "source": [
    "# Формула размерности выхода свёрточного слоя"
   ],
   "metadata": {
    "collapsed": false,
    "pycharm": {
     "name": "#%% md\n"
    }
   }
  },
  {
   "cell_type": "code",
   "execution_count": 4,
   "outputs": [],
   "source": [
    "def calc_out_shape(input_matrix_shape, out_channels, kernel_size, stride, padding):\n",
    "    batch_size, channels_count, input_height, input_width = input_matrix_shape\n",
    "    output_height = (input_height + 2 * padding - (kernel_size - 1) - 1) // stride + 1\n",
    "    output_width = (input_width + 2 * padding - (kernel_size - 1) - 1) // stride + 1\n",
    "\n",
    "    return batch_size, out_channels, output_height, output_width"
   ],
   "metadata": {
    "collapsed": false,
    "pycharm": {
     "name": "#%%\n"
    }
   }
  },
  {
   "cell_type": "code",
   "execution_count": 5,
   "outputs": [
    {
     "name": "stdout",
     "output_type": "stream",
     "text": [
      "True\n"
     ]
    }
   ],
   "source": [
    "print(np.array_equal(\n",
    "    calc_out_shape(input_matrix_shape=[2, 3, 10, 10],\n",
    "                   out_channels=10,\n",
    "                   kernel_size=3,\n",
    "                   stride=1,\n",
    "                   padding=0),\n",
    "    [2, 10, 8, 8]))"
   ],
   "metadata": {
    "collapsed": false,
    "pycharm": {
     "name": "#%%\n"
    }
   }
  },
  {
   "cell_type": "markdown",
   "source": [
    "# Код для проверки"
   ],
   "metadata": {
    "collapsed": false,
    "pycharm": {
     "name": "#%% md\n"
    }
   }
  },
  {
   "cell_type": "code",
   "execution_count": 6,
   "outputs": [],
   "source": [
    "import torch\n",
    "from abc import ABC, abstractmethod\n",
    "\n",
    "# абстрактный класс для свёрточного слоя\n",
    "class ABCConv2d(ABC):\n",
    "    def __init__(self, in_channels, out_channels, kernel_size, stride):\n",
    "        self.in_channels = in_channels\n",
    "        self.out_channels = out_channels\n",
    "        self.kernel_size = kernel_size\n",
    "        self.stride = stride\n",
    "\n",
    "    def set_kernel(self, kernel):\n",
    "        self.kernel = kernel\n",
    "\n",
    "    @abstractmethod\n",
    "    def __call__(self, input_tensor):\n",
    "        pass"
   ],
   "metadata": {
    "collapsed": false,
    "pycharm": {
     "name": "#%%\n"
    }
   }
  },
  {
   "cell_type": "code",
   "execution_count": 7,
   "outputs": [],
   "source": [
    "# класс-обёртка над torch.nn.Conv2d для унификации интерфейса\n",
    "class Conv2d(ABCConv2d):\n",
    "    def __init__(self, in_channels, out_channels, kernel_size, stride):\n",
    "        self.conv2d = torch.nn.Conv2d(in_channels,\n",
    "                                      out_channels,\n",
    "                                      kernel_size,\n",
    "                                      stride,\n",
    "                                      padding=0, bias=False)\n",
    "\n",
    "    def set_kernel(self, kernel):\n",
    "        self.conv2d.weight.data = kernel\n",
    "\n",
    "    def __call__(self, input_tensor):\n",
    "        return self.conv2d(input_tensor)"
   ],
   "metadata": {
    "collapsed": false,
    "pycharm": {
     "name": "#%%\n"
    }
   }
  },
  {
   "cell_type": "code",
   "execution_count": 8,
   "outputs": [],
   "source": [
    "# функция, создающая объект класса cls и возвращающая свёртку от input_matrix\n",
    "def create_and_call_conv2d_layer(conv2d_layer_class, stride, kernel, input_matrix):\n",
    "    out_channels = kernel.shape[0]\n",
    "    in_channels = kernel.shape[1]\n",
    "    kernel_size = kernel.shape[2]\n",
    "\n",
    "    layer = conv2d_layer_class(in_channels, out_channels, kernel_size, stride)\n",
    "    layer.set_kernel(kernel)\n",
    "\n",
    "    return layer(input_matrix)"
   ],
   "metadata": {
    "collapsed": false,
    "pycharm": {
     "name": "#%%\n"
    }
   }
  },
  {
   "cell_type": "code",
   "execution_count": 9,
   "outputs": [],
   "source": [
    "# Функция, тестирующая класс conv2d_cls.\n",
    "# Возвращает True, если свёртка совпадает со свёрткой с помощью torch.nn.Conv2d.\n",
    "def test_conv2d_layer(conv2d_layer_class, batch_size=2,\n",
    "                      input_height=4, input_width=4, stride=2):\n",
    "    kernel = torch.tensor(\n",
    "        [[[[0., 1, 0],\n",
    "           [1,  2, 1],\n",
    "           [0,  1, 0]],\n",
    "\n",
    "          [[1, 2, 1],\n",
    "           [0, 3, 3],\n",
    "           [0, 1, 10]],\n",
    "\n",
    "          [[10, 11, 12],\n",
    "           [13, 14, 15],\n",
    "           [16, 17, 18]]]])\n",
    "\n",
    "    in_channels = kernel.shape[1]\n",
    "\n",
    "    input_tensor = torch.arange(0, batch_size * in_channels *\n",
    "                                input_height * input_width,\n",
    "                                out=torch.FloatTensor())\\\n",
    "        .reshape(batch_size, in_channels, input_height, input_width)\n",
    "\n",
    "    custom_conv2d_out = create_and_call_conv2d_layer(\n",
    "        conv2d_layer_class, stride, kernel, input_tensor)\n",
    "    conv2d_out = create_and_call_conv2d_layer(\n",
    "        Conv2d, stride, kernel, input_tensor)\n",
    "\n",
    "    return torch.allclose(custom_conv2d_out, conv2d_out)\\\n",
    "           and (custom_conv2d_out.shape == conv2d_out.shape)\n",
    "\n",
    "    print(test_conv2d_layer(Conv2d))"
   ],
   "metadata": {
    "collapsed": false,
    "pycharm": {
     "name": "#%%\n"
    }
   }
  },
  {
   "cell_type": "markdown",
   "source": [
    "# Свёрточный слой\n",
    "\n",
    "Рассмотрим свёртку пакета из\n",
    "– однослойного изображения 3х3\n",
    "– с ядром из одного фильтра 2х2,\n",
    "– stride = 1, то есть,\n",
    "на выходе должна получиться одна матрица 2х2.\n",
    "\n",
    "Строго записанная размерность выхода равна (1 – изображений в пакете, 1 – количество фильтров в ядре, 2 – высота матрицы выхода, 2 – ширина матрицы выхода).\n",
    "\n",
    "Пусть W – веса ядра, X – вход, Y – выход.\n",
    "\n",
    "На каждой итерации цикла фильтр умножается попиксельно на часть изображения, а потом 4 получившиеся числа складываются – получается один пиксель выхода.\n",
    "\n",
    "Требуемое количество итераций для данного случая – 4, так как может быть 2 положения ядра и 2 по вертикали, общее число итераций – произведение количеств положений, то есть в данном случае 2х2 = 4.\n",
    "\n",
    "Давайте перейдём от простого случая к общему.\n",
    "\n",
    "– Если бы изображение было многослойным, например трёхслойное – RGB, значит, фильтры в ядре тоже должны быть трёхслойные. Каждый слой фильтра попиксельно умножается на соответствующий слой исходного изображения. То есть в данном случае после умножения получилось бы 4х3 = 12 произведений, результаты которых складываются, и получается значение выходного пикселя.\n",
    "– Если бы фильтров в ядре было больше одного, то добавился бы внешний цикл по фильтрам, внутри которого мы считаем свёртку для каждого фильтра.\n",
    "– Если бы во входном пакете было более 1 изображения, то добавился бы ещё один внешний цикл по изображениям в пакете.\n",
    "\n",
    "Во всех шагах этого урока мы считаем bias в сверточных слоях нулевым."
   ],
   "metadata": {
    "collapsed": false,
    "pycharm": {
     "name": "#%% md\n"
    }
   }
  },
  {
   "cell_type": "code",
   "execution_count": null,
   "outputs": [],
   "source": [
    "# свёрточный слой через циклы:\n",
    "class Conv2dLoop(ABCConv2d):\n",
    "    def __call__(self, input_tensor):\n",
    "        batch_size, out_channels, output_height, output_width = \\\n",
    "            calc_out_shape(\n",
    "                input_tensor.shape,\n",
    "                self.out_channels,\n",
    "                self.kernel_size,\n",
    "                self.stride,\n",
    "                padding=0\n",
    "            )\n",
    "\n",
    "        # создадим выходной тензор, заполненный нулями:\n",
    "        output_tensor = torch.zeros(\n",
    "            batch_size,\n",
    "            out_channels,\n",
    "            output_height,\n",
    "            output_width\n",
    "        )\n",
    "\n",
    "        # цикл по входным пакетам\n",
    "        for num_batch, batch in enumerate(input_tensor):\n",
    "\n",
    "            # цикл по фильтрам (количество фильтров совпадает с количеством выходных каналов)\n",
    "            for num_kernel, kernel in enumerate(self.kernel):\n",
    "\n",
    "                # цикл по размерам выходного изображения\n",
    "                for height in range(output_height):\n",
    "                    for width in range(output_width):\n",
    "\n",
    "                        # вырезаем кусочек из одного пакета (сразу по всем входным каналам)\n",
    "                        row = self.stride*height\n",
    "                        col = self.stride*width\n",
    "                        slice = batch[:, row:row + self.kernel_size, col:col + self.kernel_size]\n",
    "\n",
    "                        # умножаем кусочек на фильтр\n",
    "                        res = float((slice * kernel).sum())\n",
    "\n",
    "                        # заполняем ячейку в выходном тензоре\n",
    "                        output_tensor[num_batch, num_kernel, height, width] = res\n",
    "\n",
    "        return output_tensor\n",
    "\n",
    "# Корректность реализации определится в сравнии со стандартным слоем из pytorch.\n",
    "# Проверка происходит автоматически вызовом следующего кода\n",
    "# (раскомментируйте для самостоятельной проверки,\n",
    "#  в коде для сдачи задания должно быть закомментировано):\n",
    "# print(test_conv2d_layer(Conv2dLoop))"
   ],
   "metadata": {
    "collapsed": false,
    "pycharm": {
     "name": "#%%\n"
    }
   }
  }
 ],
 "metadata": {
  "kernelspec": {
   "display_name": "Python 3",
   "language": "python",
   "name": "python3"
  },
  "language_info": {
   "codemirror_mode": {
    "name": "ipython",
    "version": 2
   },
   "file_extension": ".py",
   "mimetype": "text/x-python",
   "name": "python",
   "nbconvert_exporter": "python",
   "pygments_lexer": "ipython2",
   "version": "2.7.6"
  }
 },
 "nbformat": 4,
 "nbformat_minor": 0
}